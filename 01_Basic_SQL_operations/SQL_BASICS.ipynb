{
  "nbformat": 4,
  "nbformat_minor": 0,
  "metadata": {
    "colab": {
      "provenance": [],
      "include_colab_link": true
    },
    "kernelspec": {
      "name": "python3",
      "display_name": "Python 3"
    },
    "language_info": {
      "name": "python"
    }
  },
  "cells": [
    {
      "cell_type": "markdown",
      "metadata": {
        "id": "view-in-github",
        "colab_type": "text"
      },
      "source": [
        "<a href=\"https://colab.research.google.com/github/ZoubirCHATTI/04_SQL/blob/main/01_Basic_SQL_operations/SQL_BASICS.ipynb\" target=\"_parent\"><img src=\"https://colab.research.google.com/assets/colab-badge.svg\" alt=\"Open In Colab\"/></a>"
      ]
    },
    {
      "cell_type": "markdown",
      "source": [
        "# **Managing a Synthetic Library with SQLite**"
      ],
      "metadata": {
        "id": "aE-mpBTQ94F9"
      }
    },
    {
      "cell_type": "markdown",
      "source": [
        "This notebook illustrates fundamental SQL operations through the creation and manipulation of a synthetic library database. The dataset consists of several books authored by different writers and published on various dates, with availability status recorded for each entry.\n",
        "\n",
        "The following tasks are demonstrated:\n",
        "\n",
        "Identifying available books\n",
        "\n",
        "Searching for a specific book by title\n",
        "\n",
        "Filtering books by publication date\n",
        "\n",
        "Executing additional queries to explore and manage the dataset\n",
        "\n",
        "This notebook serves as a practical example of how to construct and query a relational database using SQL, providing a foundation for more advanced database operations."
      ],
      "metadata": {
        "id": "kjBH4ajRSUy6"
      }
    },
    {
      "cell_type": "code",
      "execution_count": 1,
      "metadata": {
        "id": "-414asgfyc3U"
      },
      "outputs": [],
      "source": [
        "#Import of sqlite3 for generating and manipulating sql operations\n",
        "import sqlite3"
      ]
    },
    {
      "cell_type": "code",
      "source": [
        "#Connection of a sybthetic library database\n",
        "conn=sqlite3.connect(\"library.db\")                 #If the database doesn'n exist, it will be created\n",
        "cursor=conn.cursor()                               #Creation of cursor object"
      ],
      "metadata": {
        "id": "8j5sOO36yfKE"
      },
      "execution_count": 2,
      "outputs": []
    },
    {
      "cell_type": "code",
      "source": [
        "#Creation of table book, that contains informations about different books in the synthetic library\n",
        "#The table contains informations about books such as id, name, author, publication date and its availability\n",
        "cursor.execute(\"\"\"create table if not exists book(\n",
        "  id integer primary key,\n",
        "  name text,\n",
        "  author text,\n",
        "  date integer,\n",
        "  availability text\n",
        "\n",
        ")\"\"\"\n",
        ")"
      ],
      "metadata": {
        "colab": {
          "base_uri": "https://localhost:8080/"
        },
        "id": "OqGxDsZWypYf",
        "outputId": "f4093455-ccba-4d8c-89d6-7dd0792333bb"
      },
      "execution_count": 3,
      "outputs": [
        {
          "output_type": "execute_result",
          "data": {
            "text/plain": [
              "<sqlite3.Cursor at 0x7ff84e568ac0>"
            ]
          },
          "metadata": {},
          "execution_count": 3
        }
      ]
    },
    {
      "cell_type": "markdown",
      "source": [
        "In this section, we will insert the books into the table \"book\" in the synthetic database, there are 100 books in the library with their informations from the id to their availability"
      ],
      "metadata": {
        "id": "u1ghHZbCl9Su"
      }
    },
    {
      "cell_type": "code",
      "source": [
        "#Insert of different books with their id, names, authors, date and availability\n",
        "cursor.execute(\"insert into book (id, name, author, date, availability) values (1 ,  'Le Petit Prince', 'Antoine de Saint-Exupéry',1943, 'yes') \")\n",
        "cursor.execute(\"insert into book (id, name, author, date, availability) values (2 ,  'L Étranger', 'Albert Camus',1942, 'yes') \")\n",
        "cursor.execute(\"insert into book (id, name, author, date, availability) values (3 ,  'Les Misérables', 'Victor Hugo',1862, 'no') \")\n",
        "cursor.execute(\"insert into book (id, name, author, date, availability) values (4 ,  '1984', 'George Orwell',1949, 'yes') \")\n",
        "cursor.execute(\"insert into book (id, name, author, date, availability) values (5 ,  'La Peste', 'Albert Camus',1947, 'no') \")\n",
        "cursor.execute(\"insert into book (id, name, author, date, availability) values (6 ,  'Rich Dad Poor Dad', 'Robert Kiyosaki',1997, 'yes') \")\n",
        "cursor.execute(\"insert into book (id, name, author, date, availability) values (7 ,  'Animal Farm', 'George Orwell',1945, 'yes') \")\n",
        "cursor.execute(\"insert into book (id, name, author, date, availability) values (8 ,  'Les 7 habitudes de ceux qui réussissent', 'Stephen R. Covey',1989, 'no') \")\n",
        "cursor.execute(\"insert into book (id, name, author, date, availability) values (9 ,  'Comment se faire des amis', 'Dale Carnegie\t',1989, 'no') \")\n",
        "cursor.execute(\"insert into book (id, name, author, date, availability) values (10 , 'Cashflow Quadrant', 'Robert Kiyosaki',1998, 'no') \")"
      ],
      "metadata": {
        "colab": {
          "base_uri": "https://localhost:8080/"
        },
        "id": "q3C7hxYpzWW9",
        "outputId": "2047d119-0c3e-44c6-f71e-e44ab52ec3da"
      },
      "execution_count": 4,
      "outputs": [
        {
          "output_type": "execute_result",
          "data": {
            "text/plain": [
              "<sqlite3.Cursor at 0x7ff84e568ac0>"
            ]
          },
          "metadata": {},
          "execution_count": 4
        }
      ]
    },
    {
      "cell_type": "markdown",
      "source": [
        "As a start, we will check available books written by \"George Orwell"
      ],
      "metadata": {
        "id": "xeozif4km4o-"
      }
    },
    {
      "cell_type": "code",
      "source": [
        "#Looking for book written by George Orwell that are available in the library\n",
        "cursor.execute(\"SELECT * FROM book WHERE author='George Orwell' AND availability='yes'\")\n",
        "rows=cursor.fetchall()   #Give all the data returned by the querry\n",
        "for row in rows:\n",
        "  print(row)             #Printing the results"
      ],
      "metadata": {
        "colab": {
          "base_uri": "https://localhost:8080/"
        },
        "id": "ITaPlBFe0P3f",
        "outputId": "5c8d32b9-2f97-4d3d-9ba4-1bb250d5cdfc"
      },
      "execution_count": 5,
      "outputs": [
        {
          "output_type": "stream",
          "name": "stdout",
          "text": [
            "(4, '1984', 'George Orwell', 1949, 'yes')\n",
            "(7, 'Animal Farm', 'George Orwell', 1945, 'yes')\n"
          ]
        }
      ]
    },
    {
      "cell_type": "markdown",
      "source": [
        "In this part of the code, we search for books that were published before a specified date. The workflow is as follows:\n",
        "\n",
        "The user inputs a date.\n",
        "\n",
        "The program queries the database for books published before that date.\n",
        "\n",
        "If one or more books are found, their details (ID, name, author, publication date, availability, etc.) are displayed.\n",
        "\n",
        "If no books match the criteria, the program notifies the user that no books were found before the specified date.\n",
        "\n",
        "This allows users to efficiently filter the library collection by publication date and quickly find relevant books."
      ],
      "metadata": {
        "id": "IG6CsPslnHHq"
      }
    },
    {
      "cell_type": "code",
      "source": [
        "#Looking for books written before a certain date\n",
        "publication_date=int(input(\"Enter the date:\"))                              #We enter the specified data, it should be an integer\n",
        "cursor.execute(\"select * from book where date < ?\", (publication_date,))    #The program querries the database looking for books before the mentionned date\n",
        "res=cursor.fetchall()\n",
        "if res:\n",
        "  for re in res:\n",
        "    print(re)                                                               #If it found one or more, it will print their details\n",
        "else:\n",
        "  print(f\"There are no books publisher before {publication_date}\")          # If no books match the criteria, it notifies the user"
      ],
      "metadata": {
        "colab": {
          "base_uri": "https://localhost:8080/"
        },
        "id": "HhapInm26LnO",
        "outputId": "bbbb0416-6dd6-4f85-f01c-5ec047275ffc"
      },
      "execution_count": 6,
      "outputs": [
        {
          "output_type": "stream",
          "name": "stdout",
          "text": [
            "Enter the date:1940\n",
            "(3, 'Les Misérables', 'Victor Hugo', 1862, 'no')\n"
          ]
        }
      ]
    },
    {
      "cell_type": "markdown",
      "source": [
        "This part is similar to the previous one, but instead of introducing publication data, we look for books written by a certain author"
      ],
      "metadata": {
        "id": "TujsOsu7pCyQ"
      }
    },
    {
      "cell_type": "code",
      "source": [
        "#Looking for books written by certain author\n",
        "author=str(input(\"enter the authot name:\"))                              #enter the author name\n",
        "cursor.execute(\"select *from book where author=?\", (author,))            #The program querries the databas for any books written by the author\n",
        "results=cursor.fetchall()\n",
        "if results:\n",
        "  for r in results:\n",
        "    print(r)                                                             #If any found, it will print them\n",
        "else:\n",
        "  print(f\"Sorry, but there is no book written by the author {author}\")   #else if there is no book written by the mentionned author, it will notify you"
      ],
      "metadata": {
        "colab": {
          "base_uri": "https://localhost:8080/"
        },
        "id": "vxdDwLtD-qqZ",
        "outputId": "6757a590-178b-482d-ba5b-b48308ce6939"
      },
      "execution_count": 7,
      "outputs": [
        {
          "output_type": "stream",
          "name": "stdout",
          "text": [
            "enter the authot name:George Orwell\n",
            "(4, '1984', 'George Orwell', 1949, 'yes')\n",
            "(7, 'Animal Farm', 'George Orwell', 1945, 'yes')\n"
          ]
        }
      ]
    },
    {
      "cell_type": "markdown",
      "source": [
        "In this part of the code, we use the SQL COUNT function to determine how many books meet a specific criterion. The workflow is as follows:\n",
        "\n",
        "The user inputs the criterion (e.g., author, genre, availability) and the condition (e.g., a specific author name, “available” status).\n",
        "\n",
        "The program executes a query to count the number of books that match the given criterion and condition.\n",
        "\n",
        "The result is displayed, showing how many books satisfy the specified requirements.\n",
        "\n",
        "This approach allows users to quickly aggregate information about the library collection based on dynamic filters."
      ],
      "metadata": {
        "id": "sBXonWnrrsg4"
      }
    },
    {
      "cell_type": "code",
      "source": [
        "#Looking for number of available books\n",
        "cursor.execute(\"select count(*)from book where availability='yes'\")  #Using the function count to count the number of available books\n",
        "counts=cursor.fetchall()\n",
        "for c in counts:\n",
        "  print(c)"
      ],
      "metadata": {
        "id": "UQooY5fx_ua6"
      },
      "execution_count": null,
      "outputs": []
    },
    {
      "cell_type": "code",
      "source": [
        "#Looking for number of books that fit certain criteria\n",
        "criterion=str(input(\"criterion=\"))                                         #Enter the criterion (author, availability...), it must be a column in the table\n",
        "condition=input(\"condition=\")                                              #Enter the condition ( for availability: yes/no, for date: 1990... )\n",
        "cursor.execute(f\"select count(*)from book where {criterion}={condition}\")  #Count the number of books fit the criterion and the condition\n",
        "counts=cursor.fetchall()\n",
        "if counts:\n",
        "  for c in counts:\n",
        "    print(f\"the number of books with {criterion}={condition} is {c}\")"
      ],
      "metadata": {
        "colab": {
          "base_uri": "https://localhost:8080/"
        },
        "id": "6RSH3G1Oqn1S",
        "outputId": "9966740c-5a83-47af-950d-da6ad584690c"
      },
      "execution_count": 11,
      "outputs": [
        {
          "output_type": "stream",
          "name": "stdout",
          "text": [
            "criterion=date\n",
            "condition=1943\n",
            "the number of books with date=1943 is (1,)\n"
          ]
        }
      ]
    },
    {
      "cell_type": "code",
      "source": [
        "#Looking for a book name by entering its id\n",
        "identifier=int(input(\"Enter the id of the book you are looking for:\"))\n",
        "cursor.execute(\"select name from book where id=?\", (identifier,))\n",
        "name=cursor.fetchone()\n",
        "print(f\"the name of the book you want to borrow is{name}\")"
      ],
      "metadata": {
        "colab": {
          "base_uri": "https://localhost:8080/"
        },
        "id": "fApeE7DTBq4Q",
        "outputId": "83af658c-fe49-44d7-9d11-9be66206059a"
      },
      "execution_count": 17,
      "outputs": [
        {
          "output_type": "stream",
          "name": "stdout",
          "text": [
            "Enter the id of the book you are looking for:5\n",
            "the name of the book you want to borrow is('La Peste',)\n"
          ]
        }
      ]
    },
    {
      "cell_type": "code",
      "source": [
        "#Checking if the book is available\n",
        "cursor.execute(\"select availability from book where id=?\", (identifier,))\n",
        "yes_no=cursor.fetchall()\n",
        "if yes_no=='yes':\n",
        "  print(\"the book is available\")\n",
        "else:\n",
        "  print(\"The book is not available\")"
      ],
      "metadata": {
        "colab": {
          "base_uri": "https://localhost:8080/"
        },
        "id": "SZSQd7PhGj9w",
        "outputId": "5c6de4e0-3350-4e7f-c84f-9b5065eb302d"
      },
      "execution_count": 19,
      "outputs": [
        {
          "output_type": "stream",
          "name": "stdout",
          "text": [
            "The book is not available\n"
          ]
        }
      ]
    },
    {
      "cell_type": "markdown",
      "source": [
        "This section focuses on looking for the name of a book by knowing its id, and checking if it is available or not"
      ],
      "metadata": {
        "id": "YloabJe4vRaL"
      }
    },
    {
      "cell_type": "code",
      "source": [
        "#From book id, we detemine the name of the book and if it is availble or not\n",
        "book_id=int(input(\"Enter the id of the book you are looking for:\"))             #Enter the book id (it must be an integer)\n",
        "cursor.execute(\"select availability, name from book where id=?\", (book_id,))    #looking for the book name and checking if it is available\n",
        "results=cursor.fetchone()\n",
        "if results:\n",
        "  available, name= results\n",
        "  status= \"available\" if available else \"not available\"\n",
        "  print(f\"The book '{name}' is {status}\")                                       #Printing the status of the book if it is available or not"
      ],
      "metadata": {
        "colab": {
          "base_uri": "https://localhost:8080/"
        },
        "id": "nvGrnMcAA8n7",
        "outputId": "2b3333c6-763c-472f-a7bc-6ace56a6a460"
      },
      "execution_count": 12,
      "outputs": [
        {
          "output_type": "stream",
          "name": "stdout",
          "text": [
            "Enter the id of the book you are looking for:5\n",
            "The book 'La Peste' is available\n"
          ]
        }
      ]
    }
  ]
}